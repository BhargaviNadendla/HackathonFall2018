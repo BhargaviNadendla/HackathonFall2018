{
 "cells": [
  {
   "cell_type": "code",
   "execution_count": 2,
   "metadata": {},
   "outputs": [],
   "source": [
    "import pyLDAvis.gensim \n",
    "import gensim\n",
    "pyLDAvis.enable_notebook()"
   ]
  },
  {
   "cell_type": "code",
   "execution_count": 3,
   "metadata": {},
   "outputs": [],
   "source": [
    "d=gensim.corpora.Dictionary.load('/home/bigdata/PycharmProjects/PyLDA/Hackathon/pubmed.dict')\n",
    "c=gensim.corpora.MmCorpus('/home/bigdata/PycharmProjects/PyLDA/Hackathon/pubmed.mm')\n",
    "m=gensim.models.LdaModel.load('/home/bigdata/PycharmProjects/PyLDA/Hackathon/pubmed.model')"
   ]
  },
  {
   "cell_type": "code",
   "execution_count": 4,
   "metadata": {},
   "outputs": [],
   "source": [
    "data=pyLDAvis.gensim.prepare(m,c,d)\n",
    "pyLDAvis.display(data)\n",
    "pyLDAvis.save_html(data, '/home/bigdata/PycharmProjects/PyLDA/Hackathon/data/HTMLfiles/today.html')"
   ]
  },
  {
   "cell_type": "code",
   "execution_count": null,
   "metadata": {},
   "outputs": [],
   "source": []
  }
 ],
 "metadata": {
  "kernelspec": {
   "display_name": "Python 3",
   "language": "python",
   "name": "python3"
  },
  "language_info": {
   "codemirror_mode": {
    "name": "ipython",
    "version": 3
   },
   "file_extension": ".py",
   "mimetype": "text/x-python",
   "name": "python",
   "nbconvert_exporter": "python",
   "pygments_lexer": "ipython3",
   "version": "3.4.3"
  }
 },
 "nbformat": 4,
 "nbformat_minor": 1
}
